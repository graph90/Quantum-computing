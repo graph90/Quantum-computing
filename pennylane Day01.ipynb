{
 "cells": [
  {
   "cell_type": "code",
   "execution_count": 8,
   "id": "e7b7af3b",
   "metadata": {},
   "outputs": [],
   "source": [
    "import pennylane as qml\n",
    "from pennylane import numpy as np"
   ]
  },
  {
   "cell_type": "code",
   "execution_count": 9,
   "id": "27622c6b",
   "metadata": {},
   "outputs": [],
   "source": [
    "dev = qml.device(\"default.qubit\", wires=2)"
   ]
  },
  {
   "cell_type": "code",
   "execution_count": 18,
   "id": "34ed5e62",
   "metadata": {},
   "outputs": [],
   "source": [
    "@qml.qnode(dev)\n",
    "def circuit(theta):\n",
    "    qml.PauliX(wires=1)\n",
    "    qml.CNOT(wires=[1,0])\n",
    "    qml.RY(theta, wires=0)\n",
    "    \n",
    "    return qml.expval(qml.PauliZ(wires=0))"
   ]
  },
  {
   "cell_type": "code",
   "execution_count": 19,
   "id": "d0d42756",
   "metadata": {},
   "outputs": [
    {
     "name": "stdout",
     "output_type": "stream",
     "text": [
      "1.0\n"
     ]
    }
   ],
   "source": [
    "print(circuit(np.pi))"
   ]
  },
  {
   "cell_type": "code",
   "execution_count": 20,
   "id": "abf5672f",
   "metadata": {},
   "outputs": [],
   "source": [
    "import matplotlib.pyplot as plt"
   ]
  },
  {
   "cell_type": "code",
   "execution_count": 21,
   "id": "04f50bb6",
   "metadata": {},
   "outputs": [],
   "source": [
    "thetas = np.arange(-np.pi, np.pi, 0.01)"
   ]
  },
  {
   "cell_type": "code",
   "execution_count": 25,
   "id": "223a3a85",
   "metadata": {},
   "outputs": [],
   "source": [
    "measurements = np.zeros(len(thetas))"
   ]
  },
  {
   "cell_type": "code",
   "execution_count": 27,
   "id": "327ea1df",
   "metadata": {},
   "outputs": [],
   "source": [
    "for i, theta in enumerate(thetas):\n",
    "    measurements[i] = circuit(theta)"
   ]
  },
  {
   "cell_type": "code",
   "execution_count": 28,
   "id": "3cb2e7b5",
   "metadata": {},
   "outputs": [
    {
     "data": {
      "image/png": "[encoded data removed]",
      "text/plain": [
       "<Figure size 432x288 with 1 Axes>"
      ]
     },
     "metadata": {
      "needs_background": "light"
     },
     "output_type": "display_data"
    }
   ],
   "source": [
    "plt.plot(thetas, measurements)\n",
    "plt.show()"
   ]
  },
  {
   "cell_type": "code",
   "execution_count": null,
   "id": "21589348",
   "metadata": {},
   "outputs": [],
   "source": []
  }
 ],
 "metadata": {
  "kernelspec": {
   "display_name": "Python 3 (ipykernel)",
   "language": "python",
   "name": "python3"
  },
  "language_info": {
   "codemirror_mode": {
    "name": "ipython",
    "version": 3
   },
   "file_extension": ".py",
   "mimetype": "text/x-python",
   "name": "python",
   "nbconvert_exporter": "python",
   "pygments_lexer": "ipython3",
   "version": "3.8.3"
  }
 },
 "nbformat": 4,
 "nbformat_minor": 5
}
